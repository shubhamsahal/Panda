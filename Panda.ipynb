{
 "cells": [
  {
   "cell_type": "code",
   "execution_count": 2,
   "id": "f220607d-537c-4f8f-a8f5-5d0e25b9617d",
   "metadata": {},
   "outputs": [],
   "source": [
    "import pandas as pd\n",
    "import numpy as np"
   ]
  },
  {
   "cell_type": "code",
   "execution_count": 5,
   "id": "d23bfdc3-f4b2-45e4-902a-087f94021e15",
   "metadata": {},
   "outputs": [],
   "source": [
    "office_1 = {\n",
    "    \"Name\":['Tej','Rohan','jimmy','Deep'],\n",
    "    \"Roles\":['Management','Chief Operating Officer','General Manager','Senior management'],\n",
    "    \"Salary\":[56000,95000,35000,25000],\n",
    "    \"E-Mail\":['tej@gmail.com','rohan@gmail.com','jimmy@gmail.com','deep@gmail.com']\n",
    "}"
   ]
  },
  {
   "cell_type": "code",
   "execution_count": 6,
   "id": "b731d02f-d8c9-4681-9277-8b471cf5488e",
   "metadata": {},
   "outputs": [],
   "source": [
    "df = pd.DataFrame(office_1)"
   ]
  },
  {
   "cell_type": "code",
   "execution_count": 7,
   "id": "c54449f0-89c6-40a0-a4c2-ef1c607ba4d4",
   "metadata": {},
   "outputs": [
    {
     "data": {
      "text/html": [
       "<div>\n",
       "<style scoped>\n",
       "    .dataframe tbody tr th:only-of-type {\n",
       "        vertical-align: middle;\n",
       "    }\n",
       "\n",
       "    .dataframe tbody tr th {\n",
       "        vertical-align: top;\n",
       "    }\n",
       "\n",
       "    .dataframe thead th {\n",
       "        text-align: right;\n",
       "    }\n",
       "</style>\n",
       "<table border=\"1\" class=\"dataframe\">\n",
       "  <thead>\n",
       "    <tr style=\"text-align: right;\">\n",
       "      <th></th>\n",
       "      <th>Name</th>\n",
       "      <th>Roles</th>\n",
       "      <th>Salary</th>\n",
       "      <th>E-Mail</th>\n",
       "    </tr>\n",
       "  </thead>\n",
       "  <tbody>\n",
       "    <tr>\n",
       "      <th>0</th>\n",
       "      <td>Tej</td>\n",
       "      <td>Management</td>\n",
       "      <td>56000</td>\n",
       "      <td>tej@gmail.com</td>\n",
       "    </tr>\n",
       "    <tr>\n",
       "      <th>1</th>\n",
       "      <td>Rohan</td>\n",
       "      <td>Chief Operating Officer</td>\n",
       "      <td>95000</td>\n",
       "      <td>rohan@gmail.com</td>\n",
       "    </tr>\n",
       "    <tr>\n",
       "      <th>2</th>\n",
       "      <td>jimmy</td>\n",
       "      <td>General Manager</td>\n",
       "      <td>35000</td>\n",
       "      <td>jimmy@gmail.com</td>\n",
       "    </tr>\n",
       "    <tr>\n",
       "      <th>3</th>\n",
       "      <td>Deep</td>\n",
       "      <td>Senior management</td>\n",
       "      <td>25000</td>\n",
       "      <td>deep@gmail.com</td>\n",
       "    </tr>\n",
       "  </tbody>\n",
       "</table>\n",
       "</div>"
      ],
      "text/plain": [
       "    Name                    Roles  Salary           E-Mail\n",
       "0    Tej               Management   56000    tej@gmail.com\n",
       "1  Rohan  Chief Operating Officer   95000  rohan@gmail.com\n",
       "2  jimmy          General Manager   35000  jimmy@gmail.com\n",
       "3   Deep        Senior management   25000   deep@gmail.com"
      ]
     },
     "execution_count": 7,
     "metadata": {},
     "output_type": "execute_result"
    }
   ],
   "source": [
    "df # Output Print"
   ]
  },
  {
   "cell_type": "code",
   "execution_count": 8,
   "id": "99d07c62-01bc-4df4-86d5-ed000c1b6855",
   "metadata": {},
   "outputs": [],
   "source": [
    "df.to_csv('office_data.csv')  # Convert DataFrame to Excel File "
   ]
  },
  {
   "attachments": {
    "8a70cf17-0b20-4d4a-86b4-bb388276ed5e.png": {
     "image/png": "[encoded data removed]"
    }
   },
   "cell_type": "markdown",
   "id": "afb2b753-1905-42b2-ad58-eeda3ff9215f",
   "metadata": {},
   "source": [
    "![Before_Index.png](attachment:8a70cf17-0b20-4d4a-86b4-bb388276ed5e.png)"
   ]
  },
  {
   "cell_type": "code",
   "execution_count": 9,
   "id": "ce717502-f1c5-413a-b989-71f52138aea7",
   "metadata": {},
   "outputs": [],
   "source": [
    "df.to_csv('office_data_1.csv',index=False)  # Remove Index Numbers from Csv file and modify file name "
   ]
  },
  {
   "attachments": {
    "aa3c8dfd-5339-4ddf-be6b-ade0e05ca380.png": {
     "image/png": "[encoded data removed]"
    }
   },
   "cell_type": "markdown",
   "id": "16b5fdf9-ea87-4c22-95c9-28f121f88a8f",
   "metadata": {},
   "source": [
    "![After_Index.png](attachment:aa3c8dfd-5339-4ddf-be6b-ade0e05ca380.png)"
   ]
  },
  {
   "cell_type": "code",
   "execution_count": 10,
   "id": "80350157-99c5-49dd-9f46-1a8a6cf80b63",
   "metadata": {},
   "outputs": [
    {
     "data": {
      "text/html": [
       "<div>\n",
       "<style scoped>\n",
       "    .dataframe tbody tr th:only-of-type {\n",
       "        vertical-align: middle;\n",
       "    }\n",
       "\n",
       "    .dataframe tbody tr th {\n",
       "        vertical-align: top;\n",
       "    }\n",
       "\n",
       "    .dataframe thead th {\n",
       "        text-align: right;\n",
       "    }\n",
       "</style>\n",
       "<table border=\"1\" class=\"dataframe\">\n",
       "  <thead>\n",
       "    <tr style=\"text-align: right;\">\n",
       "      <th></th>\n",
       "      <th>Name</th>\n",
       "      <th>Roles</th>\n",
       "      <th>Salary</th>\n",
       "      <th>E-Mail</th>\n",
       "    </tr>\n",
       "  </thead>\n",
       "  <tbody>\n",
       "    <tr>\n",
       "      <th>0</th>\n",
       "      <td>Tej</td>\n",
       "      <td>Management</td>\n",
       "      <td>56000</td>\n",
       "      <td>tej@gmail.com</td>\n",
       "    </tr>\n",
       "    <tr>\n",
       "      <th>1</th>\n",
       "      <td>Rohan</td>\n",
       "      <td>Chief Operating Officer</td>\n",
       "      <td>95000</td>\n",
       "      <td>rohan@gmail.com</td>\n",
       "    </tr>\n",
       "  </tbody>\n",
       "</table>\n",
       "</div>"
      ],
      "text/plain": [
       "    Name                    Roles  Salary           E-Mail\n",
       "0    Tej               Management   56000    tej@gmail.com\n",
       "1  Rohan  Chief Operating Officer   95000  rohan@gmail.com"
      ]
     },
     "execution_count": 10,
     "metadata": {},
     "output_type": "execute_result"
    }
   ],
   "source": [
    "df.head(2) # If you want to see the top 2 Rows"
   ]
  },
  {
   "cell_type": "code",
   "execution_count": 11,
   "id": "b742bc6b-b778-4b7c-a7aa-cf9cd8c0fb3c",
   "metadata": {},
   "outputs": [
    {
     "data": {
      "text/html": [
       "<div>\n",
       "<style scoped>\n",
       "    .dataframe tbody tr th:only-of-type {\n",
       "        vertical-align: middle;\n",
       "    }\n",
       "\n",
       "    .dataframe tbody tr th {\n",
       "        vertical-align: top;\n",
       "    }\n",
       "\n",
       "    .dataframe thead th {\n",
       "        text-align: right;\n",
       "    }\n",
       "</style>\n",
       "<table border=\"1\" class=\"dataframe\">\n",
       "  <thead>\n",
       "    <tr style=\"text-align: right;\">\n",
       "      <th></th>\n",
       "      <th>Name</th>\n",
       "      <th>Roles</th>\n",
       "      <th>Salary</th>\n",
       "      <th>E-Mail</th>\n",
       "    </tr>\n",
       "  </thead>\n",
       "  <tbody>\n",
       "    <tr>\n",
       "      <th>2</th>\n",
       "      <td>jimmy</td>\n",
       "      <td>General Manager</td>\n",
       "      <td>35000</td>\n",
       "      <td>jimmy@gmail.com</td>\n",
       "    </tr>\n",
       "    <tr>\n",
       "      <th>3</th>\n",
       "      <td>Deep</td>\n",
       "      <td>Senior management</td>\n",
       "      <td>25000</td>\n",
       "      <td>deep@gmail.com</td>\n",
       "    </tr>\n",
       "  </tbody>\n",
       "</table>\n",
       "</div>"
      ],
      "text/plain": [
       "    Name              Roles  Salary           E-Mail\n",
       "2  jimmy    General Manager   35000  jimmy@gmail.com\n",
       "3   Deep  Senior management   25000   deep@gmail.com"
      ]
     },
     "execution_count": 11,
     "metadata": {},
     "output_type": "execute_result"
    }
   ],
   "source": [
    "df.tail(2)  # If you want to see last 2 Rows"
   ]
  },
  {
   "cell_type": "code",
   "execution_count": 12,
   "id": "a00f7b14-2b96-4808-a714-21b2b8bfbba7",
   "metadata": {},
   "outputs": [
    {
     "data": {
      "text/html": [
       "<div>\n",
       "<style scoped>\n",
       "    .dataframe tbody tr th:only-of-type {\n",
       "        vertical-align: middle;\n",
       "    }\n",
       "\n",
       "    .dataframe tbody tr th {\n",
       "        vertical-align: top;\n",
       "    }\n",
       "\n",
       "    .dataframe thead th {\n",
       "        text-align: right;\n",
       "    }\n",
       "</style>\n",
       "<table border=\"1\" class=\"dataframe\">\n",
       "  <thead>\n",
       "    <tr style=\"text-align: right;\">\n",
       "      <th></th>\n",
       "      <th>Salary</th>\n",
       "    </tr>\n",
       "  </thead>\n",
       "  <tbody>\n",
       "    <tr>\n",
       "      <th>count</th>\n",
       "      <td>4.000000</td>\n",
       "    </tr>\n",
       "    <tr>\n",
       "      <th>mean</th>\n",
       "      <td>52750.000000</td>\n",
       "    </tr>\n",
       "    <tr>\n",
       "      <th>std</th>\n",
       "      <td>30987.900865</td>\n",
       "    </tr>\n",
       "    <tr>\n",
       "      <th>min</th>\n",
       "      <td>25000.000000</td>\n",
       "    </tr>\n",
       "    <tr>\n",
       "      <th>25%</th>\n",
       "      <td>32500.000000</td>\n",
       "    </tr>\n",
       "    <tr>\n",
       "      <th>50%</th>\n",
       "      <td>45500.000000</td>\n",
       "    </tr>\n",
       "    <tr>\n",
       "      <th>75%</th>\n",
       "      <td>65750.000000</td>\n",
       "    </tr>\n",
       "    <tr>\n",
       "      <th>max</th>\n",
       "      <td>95000.000000</td>\n",
       "    </tr>\n",
       "  </tbody>\n",
       "</table>\n",
       "</div>"
      ],
      "text/plain": [
       "             Salary\n",
       "count      4.000000\n",
       "mean   52750.000000\n",
       "std    30987.900865\n",
       "min    25000.000000\n",
       "25%    32500.000000\n",
       "50%    45500.000000\n",
       "75%    65750.000000\n",
       "max    95000.000000"
      ]
     },
     "execution_count": 12,
     "metadata": {},
     "output_type": "execute_result"
    }
   ],
   "source": [
    "df.describe() # Show numerical columns salary "
   ]
  },
  {
   "cell_type": "code",
   "execution_count": 15,
   "id": "cefb64d4-a6f4-4e94-b91d-fb7d1dfa0801",
   "metadata": {},
   "outputs": [],
   "source": [
    "shub = pd.read_csv('My_file_1.csv')  # Read Csv File in Panda"
   ]
  },
  {
   "cell_type": "code",
   "execution_count": 16,
   "id": "dddaf61c-43de-4953-81f7-248ca510edfe",
   "metadata": {},
   "outputs": [
    {
     "data": {
      "text/html": [
       "<div>\n",
       "<style scoped>\n",
       "    .dataframe tbody tr th:only-of-type {\n",
       "        vertical-align: middle;\n",
       "    }\n",
       "\n",
       "    .dataframe tbody tr th {\n",
       "        vertical-align: top;\n",
       "    }\n",
       "\n",
       "    .dataframe thead th {\n",
       "        text-align: right;\n",
       "    }\n",
       "</style>\n",
       "<table border=\"1\" class=\"dataframe\">\n",
       "  <thead>\n",
       "    <tr style=\"text-align: right;\">\n",
       "      <th></th>\n",
       "      <th>Train No</th>\n",
       "      <th>Speed</th>\n",
       "      <th>City</th>\n",
       "    </tr>\n",
       "  </thead>\n",
       "  <tbody>\n",
       "    <tr>\n",
       "      <th>0</th>\n",
       "      <td>133</td>\n",
       "      <td>34</td>\n",
       "      <td>New-Delhi</td>\n",
       "    </tr>\n",
       "    <tr>\n",
       "      <th>1</th>\n",
       "      <td>231</td>\n",
       "      <td>134</td>\n",
       "      <td>Noida</td>\n",
       "    </tr>\n",
       "    <tr>\n",
       "      <th>2</th>\n",
       "      <td>753</td>\n",
       "      <td>523</td>\n",
       "      <td>Kolkata</td>\n",
       "    </tr>\n",
       "    <tr>\n",
       "      <th>3</th>\n",
       "      <td>434</td>\n",
       "      <td>31</td>\n",
       "      <td>sea</td>\n",
       "    </tr>\n",
       "    <tr>\n",
       "      <th>4</th>\n",
       "      <td>984</td>\n",
       "      <td>32</td>\n",
       "      <td>iceland</td>\n",
       "    </tr>\n",
       "  </tbody>\n",
       "</table>\n",
       "</div>"
      ],
      "text/plain": [
       "   Train No  Speed       City\n",
       "0       133     34  New-Delhi\n",
       "1       231    134      Noida\n",
       "2       753    523    Kolkata\n",
       "3       434     31        sea\n",
       "4       984     32    iceland"
      ]
     },
     "execution_count": 16,
     "metadata": {},
     "output_type": "execute_result"
    }
   ],
   "source": [
    "shub"
   ]
  },
  {
   "cell_type": "code",
   "execution_count": 17,
   "id": "4b37477f-027f-4ea3-bf7d-d57e60fc9281",
   "metadata": {},
   "outputs": [
    {
     "data": {
      "text/plain": [
       "0     34\n",
       "1    134\n",
       "2    523\n",
       "3     31\n",
       "4     32\n",
       "Name: Speed, dtype: int64"
      ]
     },
     "execution_count": 17,
     "metadata": {},
     "output_type": "execute_result"
    }
   ],
   "source": [
    "shub['Speed'] # If you want to see  a Specific Column"
   ]
  },
  {
   "cell_type": "code",
   "execution_count": 19,
   "id": "3f9ca3c7-17d1-4667-9dfa-65d3215aa3d9",
   "metadata": {},
   "outputs": [
    {
     "data": {
      "text/plain": [
       "'New-Delhi'"
      ]
     },
     "execution_count": 19,
     "metadata": {},
     "output_type": "execute_result"
    }
   ],
   "source": [
    "shub['City'][0] # If you want a Specific index from column"
   ]
  },
  {
   "cell_type": "code",
   "execution_count": 21,
   "id": "0c65531a-0d63-4f8d-a621-e0c1c089d14f",
   "metadata": {},
   "outputs": [
    {
     "name": "stderr",
     "output_type": "stream",
     "text": [
      "C:\\Users\\SHUBHAM\\AppData\\Local\\Temp\\ipykernel_12504\\696640995.py:1: SettingWithCopyWarning: \n",
      "A value is trying to be set on a copy of a slice from a DataFrame\n",
      "\n",
      "See the caveats in the documentation: https://pandas.pydata.org/pandas-docs/stable/user_guide/indexing.html#returning-a-view-versus-a-copy\n",
      "  shub['Speed'][0] = 6\n"
     ]
    }
   ],
   "source": [
    "shub['Speed'][0] = 6 # If you want to change the index value "
   ]
  },
  {
   "cell_type": "code",
   "execution_count": 22,
   "id": "7c2fae87-6cfc-4d0e-84eb-dec096044dca",
   "metadata": {},
   "outputs": [
    {
     "data": {
      "text/plain": [
       "0      6\n",
       "1    134\n",
       "2    523\n",
       "3     31\n",
       "4     32\n",
       "Name: Speed, dtype: int64"
      ]
     },
     "execution_count": 22,
     "metadata": {},
     "output_type": "execute_result"
    }
   ],
   "source": [
    "shub['Speed']"
   ]
  },
  {
   "cell_type": "code",
   "execution_count": 25,
   "id": "298c8f83-8690-436f-ac13-9790d7253da3",
   "metadata": {},
   "outputs": [],
   "source": [
    "shub.index = ['First','Secound','Third','Four','Fitfth'] #if you want to change the index integer to string"
   ]
  },
  {
   "cell_type": "code",
   "execution_count": 26,
   "id": "676580e1-d462-49fd-be05-bc7ed73787f8",
   "metadata": {},
   "outputs": [
    {
     "data": {
      "text/html": [
       "<div>\n",
       "<style scoped>\n",
       "    .dataframe tbody tr th:only-of-type {\n",
       "        vertical-align: middle;\n",
       "    }\n",
       "\n",
       "    .dataframe tbody tr th {\n",
       "        vertical-align: top;\n",
       "    }\n",
       "\n",
       "    .dataframe thead th {\n",
       "        text-align: right;\n",
       "    }\n",
       "</style>\n",
       "<table border=\"1\" class=\"dataframe\">\n",
       "  <thead>\n",
       "    <tr style=\"text-align: right;\">\n",
       "      <th></th>\n",
       "      <th>Train No</th>\n",
       "      <th>Speed</th>\n",
       "      <th>City</th>\n",
       "    </tr>\n",
       "  </thead>\n",
       "  <tbody>\n",
       "    <tr>\n",
       "      <th>First</th>\n",
       "      <td>133</td>\n",
       "      <td>6</td>\n",
       "      <td>New-Delhi</td>\n",
       "    </tr>\n",
       "    <tr>\n",
       "      <th>Secound</th>\n",
       "      <td>231</td>\n",
       "      <td>134</td>\n",
       "      <td>Noida</td>\n",
       "    </tr>\n",
       "    <tr>\n",
       "      <th>Third</th>\n",
       "      <td>753</td>\n",
       "      <td>523</td>\n",
       "      <td>Kolkata</td>\n",
       "    </tr>\n",
       "    <tr>\n",
       "      <th>Four</th>\n",
       "      <td>434</td>\n",
       "      <td>31</td>\n",
       "      <td>sea</td>\n",
       "    </tr>\n",
       "    <tr>\n",
       "      <th>Fitfth</th>\n",
       "      <td>984</td>\n",
       "      <td>32</td>\n",
       "      <td>iceland</td>\n",
       "    </tr>\n",
       "  </tbody>\n",
       "</table>\n",
       "</div>"
      ],
      "text/plain": [
       "         Train No  Speed       City\n",
       "First         133      6  New-Delhi\n",
       "Secound       231    134      Noida\n",
       "Third         753    523    Kolkata\n",
       "Four          434     31        sea\n",
       "Fitfth        984     32    iceland"
      ]
     },
     "execution_count": 26,
     "metadata": {},
     "output_type": "execute_result"
    }
   ],
   "source": [
    "shub"
   ]
  },
  {
   "cell_type": "code",
   "execution_count": null,
   "id": "1774341c-6854-47d1-a62f-4be9b5544b20",
   "metadata": {},
   "outputs": [],
   "source": []
  }
 ],
 "metadata": {
  "kernelspec": {
   "display_name": "Python 3 (ipykernel)",
   "language": "python",
   "name": "python3"
  },
  "language_info": {
   "codemirror_mode": {
    "name": "ipython",
    "version": 3
   },
   "file_extension": ".py",
   "mimetype": "text/x-python",
   "name": "python",
   "nbconvert_exporter": "python",
   "pygments_lexer": "ipython3",
   "version": "3.11.4"
  }
 },
 "nbformat": 4,
 "nbformat_minor": 5
}
